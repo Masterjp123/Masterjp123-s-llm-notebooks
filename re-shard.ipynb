{
 "cells": [
  {
   "cell_type": "markdown",
   "metadata": {},
   "source": [
    "### Re-Shard\n",
    "Load a model and re-upload it with a different shard size and/or float type"
   ]
  },
  {
   "cell_type": "code",
   "execution_count": null,
   "metadata": {},
   "outputs": [],
   "source": [
    "# Install reqs\n",
    "%cd /workspace/\n",
    "!pip install -U transformers"
   ]
  },
  {
   "cell_type": "code",
   "execution_count": null,
   "metadata": {},
   "outputs": [],
   "source": [
    "# Login to hub\n",
    "from huggingface_hub import notebook_login\n",
    "notebook_login()"
   ]
  },
  {
   "cell_type": "code",
   "execution_count": null,
   "metadata": {},
   "outputs": [],
   "source": [
    "# Full repo download model\n",
    "\n",
    "# Select model\n",
    "repo_id = \"TheBloke/Llama-2-13B-fp16\"\n",
    "\n",
    "# Select branch\n",
    "revision=\"main\"\n",
    "\n",
    "# Download model\n",
    "from huggingface_hub import snapshot_download\n",
    "snapshot_download(repo_id=repo_id, revision=revision, local_dir=f\"./{repo_id.replace('/', '_')}\")\n",
    "\n",
    "print(f\"Model dir: './{repo_id.replace('/', '_')}'\")"
   ]
  },
  {
   "cell_type": "code",
   "execution_count": null,
   "metadata": {},
   "outputs": [],
   "source": [
    "# Set variables\n",
    "model_path = \"/workspace/mergekit-FORME/mergedF\"\n",
    "repo_name = \"LLM-M2P1\"\n",
    "float_type = \"auto\"\n",
    "shard_size = \"6GB\"\n",
    "\n",
    "# Re-shard and push to hub\n",
    "import torch\n",
    "from transformers import AutoModelForCausalLM, AutoTokenizer\n",
    "device_map = \"cpu\"\n",
    "model = AutoModelForCausalLM.from_pretrained(\n",
    "        model_path,\n",
    "        return_dict=True,\n",
    "        torch_dtype=float_type,\n",
    "        device_map=device_map\n",
    "    )\n",
    "tokenizer = AutoTokenizer.from_pretrained(model_path)\n",
    "model.push_to_hub(repo_name, private=True, max_shard_size=shard_size)\n",
    "tokenizer.push_to_hub(repo_name, private=True)"
   ]
  }
 ],
 "metadata": {
  "kernelspec": {
   "display_name": "Python 3 (ipykernel)",
   "language": "python",
   "name": "python3"
  },
  "language_info": {
   "codemirror_mode": {
    "name": "ipython",
    "version": 3
   },
   "file_extension": ".py",
   "mimetype": "text/x-python",
   "name": "python",
   "nbconvert_exporter": "python",
   "pygments_lexer": "ipython3",
   "version": "3.10.12"
  }
 },
 "nbformat": 4,
 "nbformat_minor": 4
}
